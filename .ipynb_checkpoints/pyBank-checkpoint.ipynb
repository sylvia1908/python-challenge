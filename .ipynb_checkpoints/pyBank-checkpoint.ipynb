{
 "cells": [
  {
   "cell_type": "code",
   "execution_count": 1,
   "metadata": {},
   "outputs": [],
   "source": [
    "import os\n",
    "import csv"
   ]
  },
  {
   "cell_type": "code",
   "execution_count": 44,
   "metadata": {},
   "outputs": [],
   "source": [
    "csvPath = os.path.join('Resources','budget_data.csv')\n",
    "\n",
    "with open(csvPath, newline='') as csvfile:\n",
    "    csvreader = csv.reader(csvfile, delimiter=',')\n",
    "    csvheader = next(csvfile)\n",
    "#     read data to list\n",
    "    csvdata = list(csvreader)\n",
    "    month_count = sum(1 for row in csvdata)\n",
    "    total = sum(int(row[1]) for row in csvdata)\n",
    "#     use index to get change \n",
    "    change = sum(int(csvdata[i][1])-int(csvdata[i-1][1])  for i in range(1,month_count))/(month_count-1)\n",
    "    maxChange = max(int(csvdata[i][1])-int(csvdata[i-1][1])  for i in range(1,month_count))\n",
    "    minChange = min(int(csvdata[i][1])-int(csvdata[i-1][1])  for i in range(1,month_count))\n",
    "#     use next when find first match\n",
    "    maxChangeDate =  next(csvdata[i][0] for i in range(1,month_count) if int(csvdata[i][1])-int(csvdata[i-1][1])== maxChange)\n",
    "    minChangeDate =  next(csvdata[i][0] for i in range(1,month_count) if int(csvdata[i][1])-int(csvdata[i-1][1])== minChange)\n",
    "    "
   ]
  },
  {
   "cell_type": "code",
   "execution_count": 45,
   "metadata": {},
   "outputs": [
    {
     "name": "stdout",
     "output_type": "stream",
     "text": [
      "Financial Analysis\n",
      "----------------------------\n",
      "Total Months: 86\n",
      "Average  Change: $38382578\n",
      "Greatest Increase in Profits: Feb-2012 $1926159\n",
      "Greatest Increase in Profits: Sep-2013 $-2196167\n",
      "\n",
      "\n"
     ]
    }
   ],
   "source": [
    "nextLine = '\\n'\n",
    "Rtitle = 'Financial Analysis'+ nextLine\n",
    "RSplit = '----------------------------'+ nextLine\n",
    "RMonth = f'Total Months: {month_count}'+ nextLine\n",
    "Rtotal = f'Average  Change: ${total}'+ nextLine\n",
    "RMaxChange = f'Greatest Increase in Profits: {maxChangeDate} ${maxChange}' + nextLine\n",
    "RMinChange = f'Greatest Increase in Profits: {minChangeDate} ${minChange}' + nextLine\n",
    "Analysis = Rtitle+RSplit+RMonth+Rtotal+RMaxChange+RMinChange+ nextLine\n",
    "with open('FinancialAnalysis.txt','w') as report:\n",
    "    \n",
    "    report.write(Analysis)\n",
    "print(Analysis)"
   ]
  },
  {
   "cell_type": "code",
   "execution_count": null,
   "metadata": {},
   "outputs": [],
   "source": []
  }
 ],
 "metadata": {
  "kernelspec": {
   "display_name": "Python 3",
   "language": "python",
   "name": "python3"
  },
  "language_info": {
   "codemirror_mode": {
    "name": "ipython",
    "version": 3
   },
   "file_extension": ".py",
   "mimetype": "text/x-python",
   "name": "python",
   "nbconvert_exporter": "python",
   "pygments_lexer": "ipython3",
   "version": "3.7.4"
  }
 },
 "nbformat": 4,
 "nbformat_minor": 2
}
